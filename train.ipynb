{
 "cells": [
  {
   "cell_type": "code",
   "execution_count": 1,
   "metadata": {},
   "outputs": [],
   "source": [
    "import torch\n",
    "import torch.nn as nn\n",
    "import torch.nn.functional as F\n",
    "import torch.optim as optim\n",
    "from torch.utils.data import DataLoader, Dataset, TensorDataset\n",
    "import pandas as pd\n",
    "import numpy as np\n",
    "import matplotlib.pyplot as plt\n",
    "import seaborn as sns\n",
    "import os\n",
    "from tqdm.auto import tqdm\n",
    "import argparse\n",
    "from factorvae import FactorVAE, FeatureExtractor, FactorDecoder, FactorEncoder, FactorPredictor, AlphaLayer, BetaLayer\n",
    "from dataset import StockDataset"
   ]
  },
  {
   "cell_type": "markdown",
   "metadata": {},
   "source": [
    "#### **Set Parameters**"
   ]
  },
  {
   "cell_type": "code",
   "execution_count": 15,
   "metadata": {},
   "outputs": [],
   "source": [
    "args = {\n",
    "    'batch_size': 300,\n",
    "    'seq_len': 20,\n",
    "    'num_latent': 6,\n",
    "    'hidden_size': 1,\n",
    "    'num_factor': 1,\n",
    "    'lr': 0.0005,\n",
    "    'num_epochs': 15\n",
    "}"
   ]
  },
  {
   "cell_type": "markdown",
   "metadata": {},
   "source": [
    "#### **Load Datasets**"
   ]
  },
  {
   "cell_type": "code",
   "execution_count": 16,
   "metadata": {},
   "outputs": [],
   "source": [
    "df_train = pd.read_pickle('data/train.pkl')\n",
    "df_valid = pd.read_pickle('data/valid.pkl')\n",
    "df_test = pd.read_pickle('data/test.pkl')\n",
    "\n",
    "df_train.columns = df_train.columns.droplevel(level=0)\n",
    "df_valid.columns = df_valid.columns.droplevel(level=0)\n",
    "df_test.columns = df_test.columns.droplevel(level=0)\n",
    "\n",
    "\n",
    "df_train = df_train[['ROC10', 'MA5', 'STD5','BETA5', 'QTLU5', 'VMA5', 'LABEL0']]\n",
    "df_valid = df_valid[['ROC10', 'MA5', 'STD5','BETA5', 'QTLU5', 'VMA5', 'LABEL0']]\n",
    "df_test = df_test[['ROC10', 'MA5', 'STD5','BETA5', 'QTLU5', 'VMA5', 'LABEL0']]"
   ]
  },
  {
   "cell_type": "code",
   "execution_count": 17,
   "metadata": {},
   "outputs": [],
   "source": [
    "ds_train = StockDataset(df_train, args['batch_size'], args['seq_len'])\n",
    "ds_valid = StockDataset(df_valid, args['batch_size'], args['seq_len'])\n",
    "ds_test = StockDataset(df_test, args['batch_size'], args['seq_len'])"
   ]
  },
  {
   "cell_type": "code",
   "execution_count": 18,
   "metadata": {},
   "outputs": [],
   "source": [
    "train_dataloader = DataLoader(ds_train, batch_size=300, shuffle=False)\n",
    "valid_dataloader = DataLoader(ds_valid, batch_size=300, shuffle=False)\n",
    "test_dataloader = DataLoader(ds_test, batch_size=300, shuffle=False)"
   ]
  },
  {
   "cell_type": "code",
   "execution_count": 19,
   "metadata": {},
   "outputs": [],
   "source": [
    "check_dataloader = DataLoader(ds_valid, batch_size=1, shuffle=False)"
   ]
  },
  {
   "cell_type": "code",
   "execution_count": 20,
   "metadata": {},
   "outputs": [
    {
     "name": "stdout",
     "output_type": "stream",
     "text": [
      "tensor([[[-2.0111,  0.7564,  0.4204, -0.3068,  1.4478,  0.5099],\n",
      "         [ 0.0000, -2.3075,  3.0000,  3.0000, -1.4645, -0.6722],\n",
      "         [ 0.0000, -2.1091,  3.0000,  3.0000, -0.8140, -2.0823],\n",
      "         [ 0.6692,  1.0286,  2.0219, -1.9777,  2.7433,  2.1081],\n",
      "         [ 1.1554,  0.0453, -1.0847, -0.0212, -0.1030, -0.7383],\n",
      "         [-0.7030, -0.7916,  0.4710, -0.1283, -0.2992, -0.1427],\n",
      "         [-0.6141, -0.9453,  0.7078,  1.1968, -0.2500, -0.9272],\n",
      "         [-0.5405, -1.3194,  0.3118,  1.2065, -0.9047, -0.7059],\n",
      "         [ 1.6439,  1.0330,  0.2461, -1.0557,  1.8713,  0.1003],\n",
      "         [ 0.9570,  0.1799,  1.7301, -1.2433,  0.3301, -0.0951],\n",
      "         [-1.7880, -0.0241,  0.0000,  0.0000, -0.4029, -0.2048],\n",
      "         [ 0.5559, -0.0079,  0.3854, -0.7906,  0.6636,  0.6196],\n",
      "         [ 1.0845, -0.2072, -0.3215,  0.0201, -0.1224,  0.1625],\n",
      "         [ 1.2533, -0.4495, -0.7070,  0.0742, -0.4836, -1.4857],\n",
      "         [-1.4838,  0.4985, -0.7398, -0.4975,  0.6383,  1.5637],\n",
      "         [ 0.2246,  0.1160, -0.7058, -0.4415,  0.2216, -0.3788],\n",
      "         [-1.3154, -0.8419,  0.4709,  1.2955, -0.4029,  0.0727],\n",
      "         [ 0.7931, -0.9832, -0.1195,  0.2218, -1.1043, -1.4541],\n",
      "         [-1.5248, -1.1818,  1.0416,  1.5688, -0.3164, -1.2028],\n",
      "         [-1.5810, -0.5954, -0.3139,  0.1304, -0.3745,  1.1409]]],\n",
      "       dtype=torch.float64)\n",
      "torch.Size([1, 20, 6])\n",
      "tensor([[0.0714, 0.1000, 0.1001, 0.1000, 0.0605, 0.1002, 0.0545, 0.0400, 0.0838,\n",
      "         0.1000, 0.0725, 0.0778, 0.0900, 0.0627, 0.1002, 0.1004, 0.1009, 0.0985,\n",
      "         0.0999, 0.0882]], dtype=torch.float64)\n",
      "torch.Size([1, 20])\n"
     ]
    }
   ],
   "source": [
    "for hist, futr in check_dataloader:\n",
    "    print(hist)\n",
    "    print(hist.shape)\n",
    "    print(futr)\n",
    "    print(futr.shape)\n",
    "    break"
   ]
  },
  {
   "cell_type": "markdown",
   "metadata": {},
   "source": [
    "#### **Build FactorVAE Model**"
   ]
  },
  {
   "cell_type": "code",
   "execution_count": 21,
   "metadata": {},
   "outputs": [],
   "source": [
    "feature_extractor = FeatureExtractor(num_latent = args['num_latent'], hidden_size = args['hidden_size'])\n",
    "\n",
    "factor_encoder = FactorEncoder(num_factors = args['num_factor'], num_portfolio = args['num_latent'], hidden_size = args['hidden_size'])\n",
    "\n",
    "alpha_layer = AlphaLayer(args['hidden_size'])\n",
    "beta_layer = BetaLayer(args['hidden_size'], args['num_factor'])\n",
    "factor_decoder = FactorDecoder(alpha_layer, beta_layer)\n",
    "\n",
    "factor_predictor = FactorPredictor(args['batch_size'], args['hidden_size'], args['num_factor'])\n",
    "\n",
    "factorVAE = FactorVAE(feature_extractor, factor_encoder, factor_decoder, factor_predictor)"
   ]
  },
  {
   "cell_type": "markdown",
   "metadata": {},
   "source": [
    "#### **Train the Model**"
   ]
  },
  {
   "cell_type": "code",
   "execution_count": 22,
   "metadata": {},
   "outputs": [
    {
     "data": {
      "text/plain": [
       "device(type='cuda')"
      ]
     },
     "execution_count": 22,
     "metadata": {},
     "output_type": "execute_result"
    }
   ],
   "source": [
    "device = torch.device(\"cuda\" if torch.cuda.is_available() else \"cpu\")\n",
    "device"
   ]
  },
  {
   "cell_type": "code",
   "execution_count": 23,
   "metadata": {},
   "outputs": [],
   "source": [
    "factorVAE.to(device)\n",
    "\n",
    "best_val_loss = 10000.0\n",
    "optimizer = torch.optim.Adam(factorVAE.parameters(), lr = args['lr'])\n",
    "scheduler = torch.optim.lr_scheduler.OneCycleLR(optimizer, max_lr = args['lr'], \\\n",
    "    steps_per_epoch = len(train_dataloader), epochs=args['num_epochs'])"
   ]
  },
  {
   "cell_type": "code",
   "execution_count": 24,
   "metadata": {},
   "outputs": [],
   "source": [
    "def train(factor_model, dataloader, optimizer, args):\n",
    "\n",
    "    device = torch.device(\"cuda\" if torch.cuda.is_available() else \"cpu\")\n",
    "\n",
    "    factor_model.to(device)\n",
    "    factor_model.train()\n",
    "\n",
    "    total_loss = 0\n",
    "\n",
    "    with tqdm(total=len(dataloader)-args['seq_len']+1) as pbar:\n",
    "\n",
    "        for char, returns in dataloader:\n",
    "            if char.shape[1] != args['seq_len']:\n",
    "                continue\n",
    "            inputs = char.to(device)\n",
    "            labels = returns[:,-1].reshape(-1,1).to(device)\n",
    "            inputs = inputs.float()\n",
    "            labels = labels.float()\n",
    "            \n",
    "            optimizer.zero_grad()\n",
    "            # print(inputs.shape)\n",
    "            # print(labels.shape)\n",
    "            loss, reconstruction, factor_mu, factor_sigma, pred_mu, pred_sigma = factor_model(inputs, labels)\n",
    "            total_loss += loss.item() * inputs.size(0)\n",
    "            loss.backward()\n",
    "            optimizer.step()\n",
    "            pbar.update(1)\n",
    "        # print(loss)\n",
    "    avg_loss = total_loss / len(dataloader.dataset)\n",
    "    return avg_loss\n",
    "\n",
    "\n",
    "@torch.no_grad()\n",
    "def validate(factor_model, dataloader, args):\n",
    "\n",
    "    device = torch.device(\"cuda\" if torch.cuda.is_available() else \"cpu\")\n",
    "    factor_model.to(device)\n",
    "    factor_model.eval()\n",
    "    total_loss = 0\n",
    "\n",
    "    with tqdm(total=len(dataloader)-args['seq_len']+1) as pbar:\n",
    "        for char, returns in dataloader:\n",
    "            if char.shape[1] != args['seq_len']:\n",
    "                continue\n",
    "            inputs = char.to(device)\n",
    "            labels = returns[:,-1].reshape(-1,1).to(device)\n",
    "            inputs = inputs.float()\n",
    "            labels = labels.float()\n",
    "            \n",
    "            loss, reconstruction, factor_mu, factor_sigma, pred_mu, pred_sigma = factor_model(inputs, labels)\n",
    "            total_loss += loss.item() * inputs.size(0)\n",
    "            pbar.update(1)\n",
    "            \n",
    "    avg_loss = total_loss / len(dataloader.dataset)\n",
    "    return avg_loss"
   ]
  },
  {
   "cell_type": "code",
   "execution_count": 25,
   "metadata": {},
   "outputs": [
    {
     "data": {
      "application/vnd.jupyter.widget-view+json": {
       "model_id": "f5254a988f7a44ae98fe502522ca3664",
       "version_major": 2,
       "version_minor": 0
      },
      "text/plain": [
       "  0%|          | 0/15 [00:00<?, ?it/s]"
      ]
     },
     "metadata": {},
     "output_type": "display_data"
    },
    {
     "data": {
      "application/vnd.jupyter.widget-view+json": {
       "model_id": "d066912bfef74467ba6791d73c3a7d11",
       "version_major": 2,
       "version_minor": 0
      },
      "text/plain": [
       "  0%|          | 0/1671 [00:00<?, ?it/s]"
      ]
     },
     "metadata": {},
     "output_type": "display_data"
    },
    {
     "data": {
      "application/vnd.jupyter.widget-view+json": {
       "model_id": "9b117088aba94d9ea6536c23dec60a78",
       "version_major": 2,
       "version_minor": 0
      },
      "text/plain": [
       "  0%|          | 0/244 [00:00<?, ?it/s]"
      ]
     },
     "metadata": {},
     "output_type": "display_data"
    },
    {
     "name": "stdout",
     "output_type": "stream",
     "text": [
      "Epoch 1: Train Loss: 2.0955, Validation Loss: 1.7580\n"
     ]
    },
    {
     "data": {
      "application/vnd.jupyter.widget-view+json": {
       "model_id": "95b33eae464f4da7b3cb82cee56054fc",
       "version_major": 2,
       "version_minor": 0
      },
      "text/plain": [
       "  0%|          | 0/1671 [00:00<?, ?it/s]"
      ]
     },
     "metadata": {},
     "output_type": "display_data"
    },
    {
     "data": {
      "application/vnd.jupyter.widget-view+json": {
       "model_id": "f9e4836172a849f48e17edaa9e89cf56",
       "version_major": 2,
       "version_minor": 0
      },
      "text/plain": [
       "  0%|          | 0/244 [00:00<?, ?it/s]"
      ]
     },
     "metadata": {},
     "output_type": "display_data"
    },
    {
     "name": "stdout",
     "output_type": "stream",
     "text": [
      "Epoch 2: Train Loss: 1.6883, Validation Loss: 1.4464\n"
     ]
    },
    {
     "data": {
      "application/vnd.jupyter.widget-view+json": {
       "model_id": "2acce220bf934feebf8f3a603683a613",
       "version_major": 2,
       "version_minor": 0
      },
      "text/plain": [
       "  0%|          | 0/1671 [00:00<?, ?it/s]"
      ]
     },
     "metadata": {},
     "output_type": "display_data"
    },
    {
     "data": {
      "application/vnd.jupyter.widget-view+json": {
       "model_id": "ca5d2d87b8824097b3a54f8790e5b711",
       "version_major": 2,
       "version_minor": 0
      },
      "text/plain": [
       "  0%|          | 0/244 [00:00<?, ?it/s]"
      ]
     },
     "metadata": {},
     "output_type": "display_data"
    },
    {
     "name": "stdout",
     "output_type": "stream",
     "text": [
      "Epoch 3: Train Loss: 1.3956, Validation Loss: 1.2103\n"
     ]
    },
    {
     "data": {
      "application/vnd.jupyter.widget-view+json": {
       "model_id": "40d1198533ca4fe0ab4cd4aad083c9bf",
       "version_major": 2,
       "version_minor": 0
      },
      "text/plain": [
       "  0%|          | 0/1671 [00:00<?, ?it/s]"
      ]
     },
     "metadata": {},
     "output_type": "display_data"
    },
    {
     "data": {
      "application/vnd.jupyter.widget-view+json": {
       "model_id": "9d0f9ec766d548bdb7eecb370082d0ff",
       "version_major": 2,
       "version_minor": 0
      },
      "text/plain": [
       "  0%|          | 0/244 [00:00<?, ?it/s]"
      ]
     },
     "metadata": {},
     "output_type": "display_data"
    },
    {
     "name": "stdout",
     "output_type": "stream",
     "text": [
      "Epoch 4: Train Loss: 1.1753, Validation Loss: 1.0248\n"
     ]
    },
    {
     "data": {
      "application/vnd.jupyter.widget-view+json": {
       "model_id": "a631de2eb4e84a0a8116289ec7a11a47",
       "version_major": 2,
       "version_minor": 0
      },
      "text/plain": [
       "  0%|          | 0/1671 [00:00<?, ?it/s]"
      ]
     },
     "metadata": {},
     "output_type": "display_data"
    },
    {
     "data": {
      "application/vnd.jupyter.widget-view+json": {
       "model_id": "6283d2d20b95480f80af43664472d28f",
       "version_major": 2,
       "version_minor": 0
      },
      "text/plain": [
       "  0%|          | 0/244 [00:00<?, ?it/s]"
      ]
     },
     "metadata": {},
     "output_type": "display_data"
    },
    {
     "name": "stdout",
     "output_type": "stream",
     "text": [
      "Epoch 5: Train Loss: 1.0088, Validation Loss: 0.8799\n"
     ]
    },
    {
     "data": {
      "application/vnd.jupyter.widget-view+json": {
       "model_id": "075e2517d8714b4884fd2b5200223a67",
       "version_major": 2,
       "version_minor": 0
      },
      "text/plain": [
       "  0%|          | 0/1671 [00:00<?, ?it/s]"
      ]
     },
     "metadata": {},
     "output_type": "display_data"
    },
    {
     "data": {
      "application/vnd.jupyter.widget-view+json": {
       "model_id": "a269264c9db54d05ab261ab3a8ebda0e",
       "version_major": 2,
       "version_minor": 0
      },
      "text/plain": [
       "  0%|          | 0/244 [00:00<?, ?it/s]"
      ]
     },
     "metadata": {},
     "output_type": "display_data"
    },
    {
     "name": "stdout",
     "output_type": "stream",
     "text": [
      "Epoch 6: Train Loss: 0.8835, Validation Loss: 0.7805\n"
     ]
    },
    {
     "data": {
      "application/vnd.jupyter.widget-view+json": {
       "model_id": "ee2630a63e774bbb8fddb0141c5944b1",
       "version_major": 2,
       "version_minor": 0
      },
      "text/plain": [
       "  0%|          | 0/1671 [00:00<?, ?it/s]"
      ]
     },
     "metadata": {},
     "output_type": "display_data"
    },
    {
     "data": {
      "application/vnd.jupyter.widget-view+json": {
       "model_id": "071c047cc9f44595923b40622b3fa96a",
       "version_major": 2,
       "version_minor": 0
      },
      "text/plain": [
       "  0%|          | 0/244 [00:00<?, ?it/s]"
      ]
     },
     "metadata": {},
     "output_type": "display_data"
    },
    {
     "name": "stdout",
     "output_type": "stream",
     "text": [
      "Epoch 7: Train Loss: 0.7916, Validation Loss: 0.7080\n"
     ]
    },
    {
     "data": {
      "application/vnd.jupyter.widget-view+json": {
       "model_id": "fb396f41d892463db990f19747d0f311",
       "version_major": 2,
       "version_minor": 0
      },
      "text/plain": [
       "  0%|          | 0/1671 [00:00<?, ?it/s]"
      ]
     },
     "metadata": {},
     "output_type": "display_data"
    },
    {
     "data": {
      "application/vnd.jupyter.widget-view+json": {
       "model_id": "30e81b6254f64082ba40bdcdc9dd686a",
       "version_major": 2,
       "version_minor": 0
      },
      "text/plain": [
       "  0%|          | 0/244 [00:00<?, ?it/s]"
      ]
     },
     "metadata": {},
     "output_type": "display_data"
    },
    {
     "name": "stdout",
     "output_type": "stream",
     "text": [
      "Epoch 8: Train Loss: 0.7223, Validation Loss: 0.6520\n"
     ]
    },
    {
     "data": {
      "application/vnd.jupyter.widget-view+json": {
       "model_id": "28e8c38aea2842ef9211c187799c9b21",
       "version_major": 2,
       "version_minor": 0
      },
      "text/plain": [
       "  0%|          | 0/1671 [00:00<?, ?it/s]"
      ]
     },
     "metadata": {},
     "output_type": "display_data"
    },
    {
     "data": {
      "application/vnd.jupyter.widget-view+json": {
       "model_id": "00f9b320eb9a46c4a2b90439cbcedd08",
       "version_major": 2,
       "version_minor": 0
      },
      "text/plain": [
       "  0%|          | 0/244 [00:00<?, ?it/s]"
      ]
     },
     "metadata": {},
     "output_type": "display_data"
    },
    {
     "name": "stdout",
     "output_type": "stream",
     "text": [
      "Epoch 9: Train Loss: 0.6601, Validation Loss: 0.5877\n"
     ]
    },
    {
     "data": {
      "application/vnd.jupyter.widget-view+json": {
       "model_id": "873a5369e1f84fe793d8118c6f6ee047",
       "version_major": 2,
       "version_minor": 0
      },
      "text/plain": [
       "  0%|          | 0/1671 [00:00<?, ?it/s]"
      ]
     },
     "metadata": {},
     "output_type": "display_data"
    },
    {
     "data": {
      "application/vnd.jupyter.widget-view+json": {
       "model_id": "0dc1325295e4433f898b94f2b2695266",
       "version_major": 2,
       "version_minor": 0
      },
      "text/plain": [
       "  0%|          | 0/244 [00:00<?, ?it/s]"
      ]
     },
     "metadata": {},
     "output_type": "display_data"
    },
    {
     "name": "stdout",
     "output_type": "stream",
     "text": [
      "Epoch 10: Train Loss: 0.5599, Validation Loss: 0.4699\n"
     ]
    },
    {
     "data": {
      "application/vnd.jupyter.widget-view+json": {
       "model_id": "d2ce69b342d94e52a40179a92aa3266a",
       "version_major": 2,
       "version_minor": 0
      },
      "text/plain": [
       "  0%|          | 0/1671 [00:00<?, ?it/s]"
      ]
     },
     "metadata": {},
     "output_type": "display_data"
    },
    {
     "data": {
      "application/vnd.jupyter.widget-view+json": {
       "model_id": "e1a32baac1c64d9b9e6f4b4d950d7531",
       "version_major": 2,
       "version_minor": 0
      },
      "text/plain": [
       "  0%|          | 0/244 [00:00<?, ?it/s]"
      ]
     },
     "metadata": {},
     "output_type": "display_data"
    },
    {
     "name": "stdout",
     "output_type": "stream",
     "text": [
      "Epoch 11: Train Loss: 0.4413, Validation Loss: 0.3676\n"
     ]
    },
    {
     "data": {
      "application/vnd.jupyter.widget-view+json": {
       "model_id": "bdf2fbc7191a4f9f9b91e87cb12ecda7",
       "version_major": 2,
       "version_minor": 0
      },
      "text/plain": [
       "  0%|          | 0/1671 [00:00<?, ?it/s]"
      ]
     },
     "metadata": {},
     "output_type": "display_data"
    },
    {
     "data": {
      "application/vnd.jupyter.widget-view+json": {
       "model_id": "faa29377d604406c87ef1f79dd35011a",
       "version_major": 2,
       "version_minor": 0
      },
      "text/plain": [
       "  0%|          | 0/244 [00:00<?, ?it/s]"
      ]
     },
     "metadata": {},
     "output_type": "display_data"
    },
    {
     "name": "stdout",
     "output_type": "stream",
     "text": [
      "Epoch 12: Train Loss: 0.3474, Validation Loss: 0.2901\n"
     ]
    },
    {
     "data": {
      "application/vnd.jupyter.widget-view+json": {
       "model_id": "232b9af71f474b789c70d96ade935a79",
       "version_major": 2,
       "version_minor": 0
      },
      "text/plain": [
       "  0%|          | 0/1671 [00:00<?, ?it/s]"
      ]
     },
     "metadata": {},
     "output_type": "display_data"
    },
    {
     "data": {
      "application/vnd.jupyter.widget-view+json": {
       "model_id": "6c4d25b287fe4772a174e206cde1f575",
       "version_major": 2,
       "version_minor": 0
      },
      "text/plain": [
       "  0%|          | 0/244 [00:00<?, ?it/s]"
      ]
     },
     "metadata": {},
     "output_type": "display_data"
    },
    {
     "name": "stdout",
     "output_type": "stream",
     "text": [
      "Epoch 13: Train Loss: 0.2722, Validation Loss: 0.2268\n"
     ]
    },
    {
     "data": {
      "application/vnd.jupyter.widget-view+json": {
       "model_id": "e8d56dfd0f6a4b90a032e4e636a3f51c",
       "version_major": 2,
       "version_minor": 0
      },
      "text/plain": [
       "  0%|          | 0/1671 [00:00<?, ?it/s]"
      ]
     },
     "metadata": {},
     "output_type": "display_data"
    },
    {
     "data": {
      "application/vnd.jupyter.widget-view+json": {
       "model_id": "bac3ce2c8d4c4801a1fbd2ca803d7cae",
       "version_major": 2,
       "version_minor": 0
      },
      "text/plain": [
       "  0%|          | 0/244 [00:00<?, ?it/s]"
      ]
     },
     "metadata": {},
     "output_type": "display_data"
    },
    {
     "name": "stdout",
     "output_type": "stream",
     "text": [
      "Epoch 14: Train Loss: 0.2156, Validation Loss: 0.1804\n"
     ]
    },
    {
     "data": {
      "application/vnd.jupyter.widget-view+json": {
       "model_id": "921d954d6aee44539fb30a36eaae5e57",
       "version_major": 2,
       "version_minor": 0
      },
      "text/plain": [
       "  0%|          | 0/1671 [00:00<?, ?it/s]"
      ]
     },
     "metadata": {},
     "output_type": "display_data"
    },
    {
     "data": {
      "application/vnd.jupyter.widget-view+json": {
       "model_id": "5ba66f6914e2424d89c2053619abce3d",
       "version_major": 2,
       "version_minor": 0
      },
      "text/plain": [
       "  0%|          | 0/244 [00:00<?, ?it/s]"
      ]
     },
     "metadata": {},
     "output_type": "display_data"
    },
    {
     "name": "stdout",
     "output_type": "stream",
     "text": [
      "Epoch 15: Train Loss: 0.1751, Validation Loss: 0.1485\n"
     ]
    }
   ],
   "source": [
    "for epoch in tqdm(range(args['num_epochs'])):\n",
    "\n",
    "    train_loss = train(factorVAE, train_dataloader, optimizer, args)\n",
    "    val_loss = validate(factorVAE, valid_dataloader, args)\n",
    "\n",
    "    scheduler.step()\n",
    "    print(f\"Epoch {epoch+1}: Train Loss: {train_loss:.4f}, Validation Loss: {val_loss:.4f}\") \n",
    "\n",
    "    if val_loss < best_val_loss:\n",
    "        best_val_loss = val_loss\n",
    " \n",
    "        torch.save(factorVAE.state_dict(), \"model.pt\")"
   ]
  },
  {
   "cell_type": "code",
   "execution_count": null,
   "metadata": {},
   "outputs": [],
   "source": []
  }
 ],
 "metadata": {
  "kernelspec": {
   "display_name": "gen",
   "language": "python",
   "name": "python3"
  },
  "language_info": {
   "codemirror_mode": {
    "name": "ipython",
    "version": 3
   },
   "file_extension": ".py",
   "mimetype": "text/x-python",
   "name": "python",
   "nbconvert_exporter": "python",
   "pygments_lexer": "ipython3",
   "version": "3.8.18"
  }
 },
 "nbformat": 4,
 "nbformat_minor": 2
}
